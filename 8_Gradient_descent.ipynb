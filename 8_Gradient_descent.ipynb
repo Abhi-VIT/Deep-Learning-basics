{
 "cells": [
  {
   "cell_type": "code",
   "execution_count": 8,
   "id": "6d53ee2f-8f6c-4364-97af-72ceb68db5b7",
   "metadata": {},
   "outputs": [],
   "source": [
    "import numpy as np\n",
    "import matplotlib.pyplot as plt"
   ]
  },
  {
   "cell_type": "code",
   "execution_count": 9,
   "id": "9d312348-8836-46f7-88d6-2b798351b9ea",
   "metadata": {},
   "outputs": [],
   "source": [
    "%matplotlib inline\n",
    "def gradient_descent(x,y):\n",
    "    m_curr = b_curr = 0\n",
    "    rate = 0.01\n",
    "    n = len(x)\n",
    "    plt.scatter(x,y,color='red',marker='+',linewidth='5')\n",
    "    for i in range(10000):\n",
    "        y_predicted = m_curr * x + b_curr\n",
    "#         print (m_curr,b_curr, i)\n",
    "        plt.plot(x,y_predicted,color='green')\n",
    "        md = -(2/n)*sum(x*(y-y_predicted))\n",
    "        yd = -(2/n)*sum(y-y_predicted)\n",
    "        m_curr = m_curr - rate * md\n",
    "        b_curr = b_curr - rate * yd"
   ]
  },
  {
   "cell_type": "code",
   "execution_count": 10,
   "id": "f1097f39-41bc-4199-911f-00b11d4dbc78",
   "metadata": {},
   "outputs": [],
   "source": [
    "x = np.array([1,2,3,4,5])\n",
    "y = np.array([5,7,9,11,13])"
   ]
  },
  {
   "cell_type": "code",
   "execution_count": 11,
   "id": "d7d17359-86a4-4d94-a394-e368955eb9f8",
   "metadata": {},
   "outputs": [],
   "source": [
    "import matplotlib.pyplot as plt"
   ]
  },
  {
   "cell_type": "code",
   "execution_count": 16,
   "id": "87542147-7827-4ecb-a76d-0e82dcb5c9cc",
   "metadata": {},
   "outputs": [],
   "source": [
    "# gradient_descent(x,y)\n",
    "# plt.show()"
   ]
  },
  {
   "cell_type": "code",
   "execution_count": 14,
   "id": "a0c542ce-8bc9-4136-b929-a79f05c9d028",
   "metadata": {},
   "outputs": [
    {
     "name": "stdout",
     "output_type": "stream",
     "text": [
      "Slope: -3.1978301868762446e+92, Intercept: -8.857476843927722e+91\n"
     ]
    }
   ],
   "source": [
    "import numpy as np\n",
    "\n",
    "def gradient_descent(x, y, learning_rate=0.01, iterations=1000):\n",
    "    m, b = 0, 0  # Initializing slope and intercept\n",
    "    n = len(x)  # Number of data points\n",
    "\n",
    "    for _ in range(iterations):\n",
    "        y_pred = m * x + b\n",
    "        error = y_pred - y\n",
    "        \n",
    "        # Compute gradients\n",
    "        dm = (-2 / n) * np.sum(x * error)\n",
    "        db = (-2 / n) * np.sum(error)\n",
    "        \n",
    "        # Update parameters\n",
    "        m -= learning_rate * dm\n",
    "        b -= learning_rate * db\n",
    "\n",
    "    return m, b\n",
    "\n",
    "# Example usage\n",
    "x = np.array([1, 2, 3, 4, 5])\n",
    "y = np.array([2, 4, 6, 8, 10])\n",
    "\n",
    "m, b = gradient_descent(x, y)\n",
    "print(f\"Slope: {m}, Intercept: {b}\")"
   ]
  },
  {
   "cell_type": "code",
   "execution_count": 15,
   "id": "11253730-35fb-436e-b73a-34cff17b0365",
   "metadata": {},
   "outputs": [
    {
     "data": {
      "image/png": "[encoded data removed]",
      "text/plain": [
       "<Figure size 640x480 with 1 Axes>"
      ]
     },
     "metadata": {},
     "output_type": "display_data"
    },
    {
     "name": "stdout",
     "output_type": "stream",
     "text": [
      "Final parameters: m = 2.021, b = 2.923\n"
     ]
    }
   ],
   "source": [
    "import numpy as np\n",
    "import matplotlib.pyplot as plt\n",
    "\n",
    "def gradient_descent(x, y, learning_rate=0.01, iterations=1000):\n",
    "    m_curr = b_curr = 0\n",
    "    n = len(x)\n",
    "\n",
    "    x = np.array(x, dtype=float)\n",
    "    y = np.array(y, dtype=float)\n",
    "    \n",
    "    plt.scatter(x, y, color='red', marker='+', linewidth=5)\n",
    "\n",
    "    for i in range(iterations):\n",
    "        y_predicted = m_curr * x + b_curr\n",
    "        md = -(2/n) * np.sum(x * (y - y_predicted))\n",
    "        bd = -(2/n) * np.sum(y - y_predicted)\n",
    "        m_curr -= learning_rate * md\n",
    "        b_curr -= learning_rate * bd\n",
    "        \n",
    "        if i % (iterations // 10) == 0:\n",
    "            plt.plot(list(x), list(y_predicted), color='green', alpha=0.3)\n",
    "\n",
    "    plt.plot(list(x), list(m_curr * x + b_curr), color='blue', linewidth=2)\n",
    "    plt.show()\n",
    "\n",
    "    return m_curr, b_curr\n",
    "\n",
    "x = [1,2,3,4,5]\n",
    "y = [5,7,9,11,13]\n",
    "\n",
    "m, b = gradient_descent(x, y)\n",
    "print(f\"Final parameters: m = {m:.3f}, b = {b:.3f}\")"
   ]
  },
  {
   "cell_type": "code",
   "execution_count": null,
   "id": "b6c09bd5-2cfd-4141-a71e-8833a658cc1e",
   "metadata": {},
   "outputs": [],
   "source": []
  }
 ],
 "metadata": {
  "kernelspec": {
   "display_name": "Python 3 (ipykernel)",
   "language": "python",
   "name": "python3"
  },
  "language_info": {
   "codemirror_mode": {
    "name": "ipython",
    "version": 3
   },
   "file_extension": ".py",
   "mimetype": "text/x-python",
   "name": "python",
   "nbconvert_exporter": "python",
   "pygments_lexer": "ipython3",
   "version": "3.12.7"
  }
 },
 "nbformat": 4,
 "nbformat_minor": 5
}
